{
 "cells": [
  {
   "cell_type": "code",
   "execution_count": 31,
   "metadata": {},
   "outputs": [],
   "source": [
    "import configparser\n",
    "import os.path\n",
    "import re\n",
    "from sys import stderr\n",
    "import bitarray\n",
    "import math, pprint\n",
    "\n",
    "\n",
    "from petsysbuild.petsys import tofpet2b, tofpet2c, fe_power, daqd"
   ]
  },
  {
   "cell_type": "code",
   "execution_count": 28,
   "metadata": {},
   "outputs": [
    {
     "name": "stdout",
     "output_type": "stream",
     "text": [
      "INFO: active units on ports:  0\n",
      "INFO: Evaluation kit: FEB/D with GBE connection @ ( 0,  0)\n",
      "INFO: Setting FEM  power  ON @ (portID, slaveID) = (0,0)\n",
      "INFO: FEB/D ( 0,  0) has  4 active ASICs: 0, 1, 4, 5\n"
     ]
    }
   ],
   "source": [
    "def ifchanged(AsicConfig, AsicConfigDefault):\n",
    "    keys = AsicConfig.getKeys()\n",
    "    result={}\n",
    "    for key in keys:\n",
    "        current_setting = AsicConfig.getValue(key)\n",
    "        default_setting = AsicConfigDefault.getValue(key)\n",
    "        current_setting_bits = AsicConfig.getBits(key)\n",
    "        default_setting_bits = AsicConfigDefault.getBits(key)        \n",
    "        if current_setting!=default_setting:\n",
    "            result[key] = [current_setting, default_setting, current_setting_bits, default_setting_bits]\n",
    "    return result\n",
    "\n",
    "def printChanged(result):\n",
    "    for key in result:\n",
    "        print(f\"{key:>20}: Current {result[key][0]:>3} 0b{result[key][2].to01():<10}; Default {result[key][1]:>3} 0b{result[key][3].to01():<10}\")\n",
    "\n",
    "\n",
    "# Open daqd driver\n",
    "daqd = daqd.Connection()\n",
    "daqd.initializeSystem()\n",
    "\n",
    "\n",
    "# Get active Asics and Channels\n",
    "activeAsics = daqd.getActiveAsics()\n",
    "activeChannels = [ (portID, slaveID, chipID, channelID) for channelID in range(64) for portID, slaveID, chipID in activeAsics ]\n",
    "# Get Asic configurations\n",
    "asicsConfig = daqd.getAsicsConfig()\n",
    "\n",
    "\n",
    "# Select the chip and channel to view\n",
    "VIEW_PortID     = 0\n",
    "VIEW_SlaveID    = 0\n",
    "VIEW_ChipID     = 0\n",
    "VIEW_ChannelID  = 1\n",
    "\n",
    "\n",
    "cc = asicsConfig[(VIEW_PortID, VIEW_SlaveID, VIEW_ChipID)].channelConfig[VIEW_ChannelID]\n",
    "gc = asicsConfig[(VIEW_PortID, VIEW_SlaveID, VIEW_ChipID)].globalConfig\n",
    "\n",
    "# cc = tofpet2c.AsicChannelConfig()\n",
    "# gc = tofpet2c.AsicGlobalConfig()"
   ]
  },
  {
   "cell_type": "code",
   "execution_count": null,
   "metadata": {},
   "outputs": [],
   "source": []
  },
  {
   "cell_type": "code",
   "execution_count": null,
   "metadata": {},
   "outputs": [],
   "source": []
  }
 ],
 "metadata": {
  "kernelspec": {
   "display_name": "venv",
   "language": "python",
   "name": "python3"
  },
  "language_info": {
   "codemirror_mode": {
    "name": "ipython",
    "version": 3
   },
   "file_extension": ".py",
   "mimetype": "text/x-python",
   "name": "python",
   "nbconvert_exporter": "python",
   "pygments_lexer": "ipython3",
   "version": "3.10.12"
  }
 },
 "nbformat": 4,
 "nbformat_minor": 2
}
