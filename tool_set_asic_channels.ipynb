{
 "cells": [
  {
   "cell_type": "code",
   "execution_count": 3,
   "metadata": {},
   "outputs": [
    {
     "name": "stderr",
     "output_type": "stream",
     "text": [
      "/usr/lib/python3/dist-packages/scipy/__init__.py:146: UserWarning: A NumPy version >=1.17.3 and <1.25.0 is required for this version of SciPy (detected version 1.26.4\n",
      "  warnings.warn(f\"A NumPy version >={np_minversion} and <{np_maxversion}\"\n"
     ]
    }
   ],
   "source": [
    "import configparser\n",
    "import os.path\n",
    "import re\n",
    "from sys import stdout,stderr\n",
    "import bitarray\n",
    "import math, pprint, argparse, time\n",
    "from functools import reduce\n",
    "\n",
    "import joblib\n",
    "import scipy\n",
    "from scipy import ndimage, signal, interpolate\n",
    "import csv\n",
    "from pylab import *\n",
    "import numpy as np\n",
    "\n",
    "# from petsysbuild.petsys import tofpet2b, tofpet2c, fe_power, daqd, config\n",
    "\n",
    "\n",
    "class args:\n",
    "\tdata_dir = \"/mnt/sda2/tofpet_data/test_stand_init/\"\n",
    "\tconfig = f\"{data_dir}/config.ini\"\n",
    "\toutput = f\"{data_dir}/disc_staircase_\""
   ]
  },
  {
   "cell_type": "code",
   "execution_count": 15,
   "metadata": {},
   "outputs": [],
   "source": [
    "def update_asic_coinc(filename_pinout, filename_trig):\n",
    "    # Pinout colums:\n",
    "    # 0Layer\t1preampchannel\t2chipID\t3channelID\t4chipID_coinc\t5channelID_coinc\t6SIG\t7AbsID\t8absID_coinc 9hit_det_id\t10hit_pair_id\t12assembly_id\n",
    "    pinout=np.loadtxt(filename_pinout, delimiter=\",\", skiprows=1)    \n",
    "    coinc_pairs = [[max(a[:2]),min(a[:2]), a[2]] for a in pinout[:,[7,8,10]]]\n",
    "    coinc_pairs = np.unique(coinc_pairs, axis=0).astype(int)\n",
    "    # Save coincidence pairs\n",
    "    np.savetxt(\"configurations/coinc_pairs.csv\",coinc_pairs, delimiter=\",\", fmt=\"%d\")\n",
    "\n",
    "    # Open the ASIC trigger file  \n",
    "    os.system(f\"\\cp {filename_trig} {filename_trig}.backup\")\n",
    "    with open(filename_trig, 'w', newline='') as f:\n",
    "        f.write(f\"0\\t1\\tC\\n\")\n",
    "        f.write(f\"0\\t2\\tC\\n\")\n",
    "        f.write(f\"0\\t3\\tC\\n\")\n",
    "        f.write(f\"1\\t2\\tC\\n\")\n",
    "        f.write(f\"1\\t3\\tC\\n\")\n",
    "        f.write(f\"1\\t3\\tC\\n\")\n",
    "        for pair in coinc_pairs:\n",
    "            f.write(f\"{pair[0]+1000}\\t{pair[1]+1000}\\tC\\n\")\n",
    "\n",
    "\n",
    "\n",
    "def update_asic_map(filename_map):\n",
    "    # Make the region ID unique for each ASIC channel\n",
    "    # Open the file\n",
    "    with open(filename_map, 'r') as f:\n",
    "        output=[]\n",
    "        for line in f:\n",
    "            output.append(line.split())    \n",
    "    os.system(f\"\\cp {filename_map} {filename_map}.backup\")\n",
    "\n",
    "    # Update the content\n",
    "    for i in range(len(output)):\n",
    "        output[i][4] = f\"{int(output[i][2])*64+int(output[i][3])+1000}\"\n",
    "        output[i] = reduce(lambda x, y: str(x) + '\\t' + str(y), output[i])+\"\\n\"\n",
    "\n",
    "    # Write the file\n",
    "    with open(filename_map, 'w', newline='') as f:\n",
    "        f.writelines(output)    \n",
    "\n",
    "\n",
    "filename_pinout =\"configurations/MATHUSLA teststand pinout - Preamp to ASIC.csv\"\n",
    "filename_map    = args.data_dir + \"/map_channel.tsv\"\n",
    "filename_trig   = args.data_dir + \"/map_trigger.tsv\"\n",
    "update_asic_map(filename_map)\n",
    "update_asic_coinc(filename_pinout, filename_trig)"
   ]
  },
  {
   "cell_type": "code",
   "execution_count": null,
   "metadata": {},
   "outputs": [],
   "source": []
  }
 ],
 "metadata": {
  "kernelspec": {
   "display_name": "venv",
   "language": "python",
   "name": "python3"
  },
  "language_info": {
   "codemirror_mode": {
    "name": "ipython",
    "version": 3
   },
   "file_extension": ".py",
   "mimetype": "text/x-python",
   "name": "python",
   "nbconvert_exporter": "python",
   "pygments_lexer": "ipython3",
   "version": "3.10.12"
  }
 },
 "nbformat": 4,
 "nbformat_minor": 2
}
