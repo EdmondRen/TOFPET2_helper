{
 "cells": [
  {
   "cell_type": "code",
   "execution_count": 1,
   "metadata": {},
   "outputs": [
    {
     "name": "stderr",
     "output_type": "stream",
     "text": [
      "/usr/lib/python3/dist-packages/scipy/__init__.py:146: UserWarning: A NumPy version >=1.17.3 and <1.25.0 is required for this version of SciPy (detected version 1.26.4\n",
      "  warnings.warn(f\"A NumPy version >={np_minversion} and <{np_maxversion}\"\n"
     ]
    },
    {
     "name": "stdout",
     "output_type": "stream",
     "text": [
      "Welcome to JupyROOT 6.30/04\n"
     ]
    }
   ],
   "source": [
    "import configparser\n",
    "import os.path\n",
    "import re\n",
    "from sys import stderr\n",
    "import bitarray\n",
    "import math, pprint\n",
    "\n",
    "\n",
    "from petsysbuild.petsys import tofpet2b, tofpet2c, fe_power, daqd\n",
    "from MuHelper.muhelper.util import Utils"
   ]
  },
  {
   "cell_type": "markdown",
   "metadata": {},
   "source": [
    "# How to read registers of TOFPET2 ASIC"
   ]
  },
  {
   "cell_type": "code",
   "execution_count": 5,
   "metadata": {},
   "outputs": [],
   "source": [
    "def ifchanged(AsicConfig, AsicConfigDefault):\n",
    "    keys = AsicConfig.getKeys()\n",
    "    result={}\n",
    "    for key in keys:\n",
    "        current_setting = AsicConfig.getValue(key)\n",
    "        default_setting = AsicConfigDefault.getValue(key)\n",
    "        current_setting_bits = AsicConfig.getBits(key)\n",
    "        default_setting_bits = AsicConfigDefault.getBits(key)        \n",
    "        if current_setting!=default_setting:\n",
    "            result[key] = [current_setting, default_setting, current_setting_bits, default_setting_bits]\n",
    "    return result\n",
    "\n",
    "def printChanged(result):\n",
    "    keys = list(result.keys())\n",
    "    keys.sort()\n",
    "    for key in keys:\n",
    "        print(f\"  {key:<20}: Current {result[key][0]:>3} 0b{result[key][2].to01():<10}; Default {result[key][1]:>3} 0b{result[key][3].to01():<10}\")\n",
    "\n"
   ]
  },
  {
   "cell_type": "code",
   "execution_count": 6,
   "metadata": {},
   "outputs": [
    {
     "name": "stdout",
     "output_type": "stream",
     "text": [
      "INFO: active units on ports:  0\n",
      "INFO: Evaluation kit: FEB/D with GBE connection @ ( 0,  0)\n",
      "INFO: Setting FEM  power  ON @ (portID, slaveID) = (0,0)\n",
      "INFO: FEB/D ( 0,  0) has  2 active ASICs: 4, 5\n"
     ]
    }
   ],
   "source": [
    "\n",
    "# Open daqd driver\n",
    "daqd = daqd.Connection()\n",
    "daqd.initializeSystem()"
   ]
  },
  {
   "cell_type": "code",
   "execution_count": 7,
   "metadata": {},
   "outputs": [],
   "source": [
    "\n",
    "# Get active Asics and Channels\n",
    "activeAsics = daqd.getActiveAsics()\n",
    "activeChannels = [ (portID, slaveID, chipID, channelID) for channelID in range(64) for portID, slaveID, chipID in activeAsics ]\n",
    "# Get Asic configurations\n",
    "asicsConfig = daqd.getAsicsConfig(forceAccess=True)\n",
    "\n",
    "# Select the chip and channel to view\n",
    "VIEW_PortID     = 0\n",
    "VIEW_SlaveID    = 0\n",
    "VIEW_ChipID     = 5\n",
    "VIEW_ChannelID  = 9\n",
    "\n",
    "\n",
    "cc = asicsConfig[(VIEW_PortID, VIEW_SlaveID, VIEW_ChipID)].channelConfig[VIEW_ChannelID]\n",
    "gc = asicsConfig[(VIEW_PortID, VIEW_SlaveID, VIEW_ChipID)].globalConfig\n",
    "\n",
    "# cc = tofpet2c.AsicChannelConfig()\n",
    "# gc = tofpet2c.AsicGlobalConfig()\n",
    "\n",
    "gc_default = tofpet2c.AsicGlobalConfig()\n",
    "cc_default = tofpet2c.AsicChannelConfig()\n"
   ]
  },
  {
   "cell_type": "markdown",
   "metadata": {},
   "source": [
    "## View parameters that are different from default"
   ]
  },
  {
   "cell_type": "code",
   "execution_count": 7,
   "metadata": {},
   "outputs": [],
   "source": [
    "def printChanged(result):\n",
    "    keys = list(result.keys())\n",
    "    keys.sort()\n",
    "    for key in keys:\n",
    "        print(f\"  {key:<20}: Current \"+ Utils.color.blue(f\"{result[key][0]:>3}\") + \", 0b\"+Utils.color.blue(f\"{result[key][2].to01():<10}\") +\\\n",
    "               f\"; Default {result[key][1]:>3} 0b{result[key][3].to01():<10}\")\n"
   ]
  },
  {
   "cell_type": "code",
   "execution_count": 8,
   "metadata": {},
   "outputs": [
    {
     "name": "stdout",
     "output_type": "stream",
     "text": [
      "Global parameters\n"
     ]
    },
    {
     "ename": "NameError",
     "evalue": "name 'Utils' is not defined",
     "output_type": "error",
     "traceback": [
      "\u001b[0;31m---------------------------------------------------------------------------\u001b[0m",
      "\u001b[0;31mNameError\u001b[0m                                 Traceback (most recent call last)",
      "Cell \u001b[0;32mIn[8], line 6\u001b[0m\n\u001b[1;32m      4\u001b[0m \u001b[38;5;66;03m# pprint.pprint(diff)\u001b[39;00m\n\u001b[1;32m      5\u001b[0m \u001b[38;5;28mprint\u001b[39m(\u001b[38;5;124m\"\u001b[39m\u001b[38;5;124mGlobal parameters\u001b[39m\u001b[38;5;124m\"\u001b[39m)\n\u001b[0;32m----> 6\u001b[0m \u001b[43mprintChanged\u001b[49m\u001b[43m(\u001b[49m\u001b[43mdiff\u001b[49m\u001b[43m)\u001b[49m\n\u001b[1;32m      8\u001b[0m \u001b[38;5;66;03m# cc = tofpet2c.AsicChannelConfig()\u001b[39;00m\n\u001b[1;32m      9\u001b[0m cc_default \u001b[38;5;241m=\u001b[39m tofpet2c\u001b[38;5;241m.\u001b[39mAsicChannelConfig()\n",
      "Cell \u001b[0;32mIn[7], line 5\u001b[0m, in \u001b[0;36mprintChanged\u001b[0;34m(result)\u001b[0m\n\u001b[1;32m      3\u001b[0m keys\u001b[38;5;241m.\u001b[39msort()\n\u001b[1;32m      4\u001b[0m \u001b[38;5;28;01mfor\u001b[39;00m key \u001b[38;5;129;01min\u001b[39;00m keys:\n\u001b[0;32m----> 5\u001b[0m     \u001b[38;5;28mprint\u001b[39m(\u001b[38;5;124mf\u001b[39m\u001b[38;5;124m\"\u001b[39m\u001b[38;5;124m  \u001b[39m\u001b[38;5;132;01m{\u001b[39;00mkey\u001b[38;5;132;01m:\u001b[39;00m\u001b[38;5;124m<20\u001b[39m\u001b[38;5;132;01m}\u001b[39;00m\u001b[38;5;124m: Current \u001b[39m\u001b[38;5;124m\"\u001b[39m\u001b[38;5;241m+\u001b[39m \u001b[43mUtils\u001b[49m\u001b[38;5;241m.\u001b[39mcolor\u001b[38;5;241m.\u001b[39mblue(\u001b[38;5;124mf\u001b[39m\u001b[38;5;124m\"\u001b[39m\u001b[38;5;132;01m{\u001b[39;00mresult[key][\u001b[38;5;241m0\u001b[39m]\u001b[38;5;132;01m:\u001b[39;00m\u001b[38;5;124m>3\u001b[39m\u001b[38;5;132;01m}\u001b[39;00m\u001b[38;5;124m\"\u001b[39m) \u001b[38;5;241m+\u001b[39m \u001b[38;5;124m\"\u001b[39m\u001b[38;5;124m, 0b\u001b[39m\u001b[38;5;124m\"\u001b[39m\u001b[38;5;241m+\u001b[39mUtils\u001b[38;5;241m.\u001b[39mcolor\u001b[38;5;241m.\u001b[39mblue(\u001b[38;5;124mf\u001b[39m\u001b[38;5;124m\"\u001b[39m\u001b[38;5;132;01m{\u001b[39;00mresult[key][\u001b[38;5;241m2\u001b[39m]\u001b[38;5;241m.\u001b[39mto01()\u001b[38;5;132;01m:\u001b[39;00m\u001b[38;5;124m<10\u001b[39m\u001b[38;5;132;01m}\u001b[39;00m\u001b[38;5;124m\"\u001b[39m) \u001b[38;5;241m+\u001b[39m\\\n\u001b[1;32m      6\u001b[0m            \u001b[38;5;124mf\u001b[39m\u001b[38;5;124m\"\u001b[39m\u001b[38;5;124m; Default \u001b[39m\u001b[38;5;132;01m{\u001b[39;00mresult[key][\u001b[38;5;241m1\u001b[39m]\u001b[38;5;132;01m:\u001b[39;00m\u001b[38;5;124m>3\u001b[39m\u001b[38;5;132;01m}\u001b[39;00m\u001b[38;5;124m 0b\u001b[39m\u001b[38;5;132;01m{\u001b[39;00mresult[key][\u001b[38;5;241m3\u001b[39m]\u001b[38;5;241m.\u001b[39mto01()\u001b[38;5;132;01m:\u001b[39;00m\u001b[38;5;124m<10\u001b[39m\u001b[38;5;132;01m}\u001b[39;00m\u001b[38;5;124m\"\u001b[39m)\n",
      "\u001b[0;31mNameError\u001b[0m: name 'Utils' is not defined"
     ]
    }
   ],
   "source": [
    "gc_default = tofpet2c.AsicGlobalConfig()\n",
    "gc_default[0:len(gc_default)] = tofpet2c.GlobalConfigAfterReset\n",
    "diff = ifchanged(gc,gc_default)\n",
    "# pprint.pprint(diff)\n",
    "print(\"Global parameters\")\n",
    "printChanged(diff)\n",
    "\n",
    "# cc = tofpet2c.AsicChannelConfig()\n",
    "cc_default = tofpet2c.AsicChannelConfig()\n",
    "cc_default[0:len(cc_default)] = tofpet2c.ChannelConfigAfterReset\n",
    "diff = ifchanged(cc,cc_default)\n",
    "# pprint.pprint(diff)\n",
    "print(\"Channel parameters\")\n",
    "printChanged(diff)"
   ]
  },
  {
   "cell_type": "code",
   "execution_count": 8,
   "metadata": {},
   "outputs": [
    {
     "name": "stdout",
     "output_type": "stream",
     "text": [
      "------------------Global default----------------------\n",
      "                     tx_nlinks :   2 :       bitarray('10') : 1..0\n",
      "                        tx_ddr :   1 :        bitarray('1') : 2..2\n",
      "                       tx_mode :   2 :       bitarray('10') : 4..3\n",
      "                    debug_mode :   0 :        bitarray('0') : 5..5\n",
      "                     veto_mode :   0 :   bitarray('000000') : 11..6\n",
      "                   tdc_clk_div :   1 :        bitarray('1') : 12..12\n",
      "                      r_clk_en :   6 :      bitarray('110') : 15..13\n",
      "                  stop_ramp_en :   0 :       bitarray('00') : 19..18\n",
      "                    counter_en :   0 :        bitarray('0') : 20..20\n",
      "                counter_period :   6 :      bitarray('110') : 23..21\n",
      "                tac_refresh_en :   1 :        bitarray('1') : 24..24\n",
      "            tac_refresh_period :   9 :     bitarray('1001') : 28..25\n",
      "                  data_clk_div :   0 :       bitarray('00') : 30..29\n",
      "                      unused_1 :   0 :        bitarray('0') : 31..31\n",
      "                   fetp_enable :   0 :        bitarray('0') : 32..32\n",
      "                input_polarity :   1 :        bitarray('1') : 33..33\n",
      "                 attenuator_ls :  47 :   bitarray('101111') : 34..39\n",
      "            v_ref_diff_bias_ig :  57 :   bitarray('111001') : 40..45\n",
      "                  v_cal_ref_ig :  31 :    bitarray('11111') : 46..50\n",
      "                  fe_postamp_t :  23 :    bitarray('10111') : 51..55\n",
      "                  fe_postamp_e :  20 :    bitarray('10100') : 56..60\n",
      "                  v_cal_tp_top :   1 :    bitarray('00001') : 61..65\n",
      "            v_cal_diff_bias_ig :   0 :    bitarray('00000') : 66..70\n",
      "            v_att_diff_bias_ig :  35 :   bitarray('100011') : 71..76\n",
      "                v_integ_ref_ig :  59 :   bitarray('111011') : 77..82\n",
      "              imirror_bias_top :  23 :    bitarray('10111') : 83..87\n",
      "                 tdc_comp_bias :   4 :    bitarray('00100') : 88..92\n",
      "                     tdc_i_lsb :  19 :    bitarray('10011') : 93..97\n",
      "                   disc_lsb_t1 :  58 :   bitarray('111010') : 98..103\n",
      "                        fe_ib2 :   0 :  bitarray('0000000') : 134..108\n",
      "                  vdifffoldcas :  54 :   bitarray('110110') : 109..114\n",
      "                     disc_vcas :  14 :     bitarray('1110') : 115..118\n",
      "                    disc_lsb_e :  40 :   bitarray('101000') : 119..124\n",
      "                     tdc_i_ref :  18 :    bitarray('10010') : 125..129\n",
      "                 tdc_comp_vcas :   2 :     bitarray('0010') : 130..133\n",
      "               main_global_dac :  23 :    bitarray('10111') : 135..139\n",
      "                        fe_ib1 :  59 :   bitarray('111011') : 140..145\n",
      "                       disc_ib :  19 :   bitarray('010011') : 146..151\n",
      "                   disc_lsb_t2 :  48 :   bitarray('110000') : 152..157\n",
      "                tdc_tac_vcas_p :  13 :    bitarray('01101') : 158..162\n",
      "                tdc_tac_vcas_n :   7 :     bitarray('0111') : 163..166\n",
      "               adebug_out_mode :   3 :       bitarray('11') : 167..168\n",
      "                tdc_global_dac :  19 :   bitarray('010011') : 169..174\n",
      "                 adebug_buffer :   1 :        bitarray('1') : 175..175\n",
      "                  disc_sf_bias :   0 :   bitarray('000000') : 178..183\n",
      "\n",
      "\n",
      "------------------Channel default----------------------\n",
      "                trigger_mode_1 :   0 :       bitarray('00') : 1..0\n",
      "                    debug_mode :   0 :       bitarray('00') : 3..2\n",
      "             sync_chain_length :   0 :       bitarray('00') : 5..4\n",
      "                     dead_time :   0 :   bitarray('000000') : 11..6\n",
      "                  counter_mode :   0 :     bitarray('0000') : 15..12\n",
      "                   tac_max_age :  30 :    bitarray('11110') : 20..16\n",
      "                   tac_min_age :  10 :    bitarray('01010') : 25..21\n",
      "              trigger_mode_2_t :   1 :       bitarray('01') : 27..26\n",
      "              trigger_mode_2_e :   2 :      bitarray('010') : 30..28\n",
      "              trigger_mode_2_q :   1 :       bitarray('01') : 32..31\n",
      "              trigger_mode_2_b :   5 :      bitarray('101') : 35..33\n",
      "                  branch_en_eq :   1 :        bitarray('1') : 36..36\n",
      "                   branch_en_t :   1 :        bitarray('1') : 37..37\n",
      "                      qdc_mode :   1 :        bitarray('1') : 38..38\n",
      "             trigger_b_latched :   0 :        bitarray('0') : 39..39\n",
      "                 min_intg_time :  34 :  bitarray('0100010') : 46..40\n",
      "                 max_intg_time :  34 :  bitarray('0100010') : 53..47\n",
      "                     output_en :   0 :       bitarray('00') : 55..54\n",
      "                       qtx2_en :   0 :        bitarray('0') : 56..56\n",
      "                    baseline_t :  61 :   bitarray('111101') : 62..57\n",
      "                        vth_t1 :  56 :   bitarray('111000') : 68..63\n",
      "                        vth_t2 :  47 :   bitarray('101111') : 74..69\n",
      "                         vth_e :  19 :   bitarray('010011') : 80..75\n",
      "                    baseline_e :   7 :      bitarray('111') : 82..81\n",
      "                      fe_delay :  14 :    bitarray('01110') : 84..86\n",
      "                postamp_gain_t :   0 :       bitarray('00') : 89..90\n",
      "                postamp_gain_e :   0 :       bitarray('00') : 91..92\n",
      "                  postamp_sh_e :   0 :       bitarray('00') : 94..93\n",
      "                       intg_en :   1 :        bitarray('1') : 95..95\n",
      "                intg_signal_en :   1 :        bitarray('1') : 96..96\n",
      "                           att :   1 :      bitarray('001') : 99..97\n",
      "                 tdc_current_t :   0 :     bitarray('0000') : 103..100\n",
      "                 tdc_current_e :   0 :     bitarray('0000') : 107..104\n",
      "                      fe_tp_en :   0 :       bitarray('00') : 109..108\n",
      "                 ch63_obuf_msb :   1 :        bitarray('1') : 110..110\n",
      "               integ_source_sw :   0 :       bitarray('00') : 112..111\n",
      "                 t1_hysteresis :   2 :      bitarray('010') : 117..115\n",
      "                 t2_hysteresis :   2 :      bitarray('010') : 120..118\n",
      "                  e_hysteresis :   2 :      bitarray('010') : 123..121\n",
      "               hysteresis_en_n :   1 :        bitarray('1') : 124..124\n"
     ]
    }
   ],
   "source": [
    "print(\"------------------Global default----------------------\")\n",
    "gc_default.printAllValues()\n",
    "print(\"\\n\\n------------------Channel default----------------------\")\n",
    "cc_default.printAllValues()"
   ]
  },
  {
   "cell_type": "code",
   "execution_count": 11,
   "metadata": {},
   "outputs": [
    {
     "data": {
      "text/plain": [
       "1"
      ]
     },
     "execution_count": 11,
     "metadata": {},
     "output_type": "execute_result"
    }
   ],
   "source": [
    "cc.getValue(\"qdc_mode\")"
   ]
  },
  {
   "cell_type": "code",
   "execution_count": null,
   "metadata": {},
   "outputs": [],
   "source": []
  }
 ],
 "metadata": {
  "kernelspec": {
   "display_name": "venv",
   "language": "python",
   "name": "python3"
  },
  "language_info": {
   "codemirror_mode": {
    "name": "ipython",
    "version": 3
   },
   "file_extension": ".py",
   "mimetype": "text/x-python",
   "name": "python",
   "nbconvert_exporter": "python",
   "pygments_lexer": "ipython3",
   "version": "3.10.12"
  }
 },
 "nbformat": 4,
 "nbformat_minor": 2
}
